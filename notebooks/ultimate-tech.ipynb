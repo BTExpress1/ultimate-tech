{
 "cells": [
  {
   "cell_type": "code",
   "execution_count": 2,
   "id": "9bda4e90-baa3-4184-9090-648b9f848ed6",
   "metadata": {
    "execution": {
     "iopub.execute_input": "2025-03-31T03:20:30.150731Z",
     "iopub.status.busy": "2025-03-31T03:20:30.150366Z",
     "iopub.status.idle": "2025-03-31T03:20:31.389754Z",
     "shell.execute_reply": "2025-03-31T03:20:31.389251Z",
     "shell.execute_reply.started": "2025-03-31T03:20:30.150711Z"
    }
   },
   "outputs": [],
   "source": [
    "import pandas as pd\n",
    "import matplotlib.pyplot as plt\n",
    "import seaborn as sns\n",
    "import numpy as np\n",
    "import matplotlib.lines as mlines\n",
    "import os\n",
    "import io\n",
    "import requests"
   ]
  },
  {
   "cell_type": "code",
   "execution_count": null,
   "id": "41da0a83-299a-4f10-89a5-86184435603c",
   "metadata": {},
   "outputs": [],
   "source": []
  },
  {
   "cell_type": "code",
   "execution_count": 3,
   "id": "a3ad44bf-0fc2-4686-9b0e-08d70ccb78c7",
   "metadata": {
    "execution": {
     "iopub.execute_input": "2025-03-31T03:20:31.390660Z",
     "iopub.status.busy": "2025-03-31T03:20:31.390419Z",
     "iopub.status.idle": "2025-03-31T03:20:31.395322Z",
     "shell.execute_reply": "2025-03-31T03:20:31.394760Z",
     "shell.execute_reply.started": "2025-03-31T03:20:31.390647Z"
    }
   },
   "outputs": [],
   "source": [
    "def load_and_group_dataframe(shareable_link):\n",
    "    \"\"\"\n",
    "    Loads a JSON file from a Google Drive shareable link into a pandas DataFrame\n",
    "    and displays the head of the DataFrame with columns grouped by numerical\n",
    "    and then non-numerical data types.\n",
    "\n",
    "    Args:\n",
    "        shareable_link (str): The \"Anyone with the link can view\" link to the\n",
    "                              JSON file on Google Drive.\n",
    "    \"\"\"\n",
    "    file_id = None\n",
    "    if \"/d/\" in shareable_link and \"/view\" in shareable_link:\n",
    "        file_id = shareable_link.split(\"/d/\")[1].split(\"/view\")[0]\n",
    "    elif \"/file/d/\" in shareable_link and \"/edit\" in shareable_link:\n",
    "        file_id = shareable_link.split(\"/file/d/\")[1].split(\"/edit\")[0]\n",
    "\n",
    "    if file_id:\n",
    "        download_url = f\"https://drive.google.com/uc?id={file_id}&export=download\"\n",
    "\n",
    "        try:\n",
    "            response = requests.get(download_url)\n",
    "            response.raise_for_status()  # Raise an exception for bad status codes\n",
    "\n",
    "            # Read the JSON data directly from the response content\n",
    "            ut_data = pd.read_json(io.StringIO(response.text))\n",
    "            print(\"Data loaded successfully from Google Drive:\")\n",
    "\n",
    "            # Separate numerical and non-numerical columns\n",
    "            numerical_cols = ut_data.select_dtypes(include=['number']).columns.tolist()\n",
    "            non_numerical_cols = ut_data.select_dtypes(exclude=['number']).columns.tolist()\n",
    "\n",
    "            # Create the desired column order\n",
    "            ordered_cols = numerical_cols + non_numerical_cols\n",
    "\n",
    "            # Display the DataFrame with the ordered columns (showing the head)\n",
    "            #print(ut_data[ordered_cols].head())\n",
    "\n",
    "            return ut_data  # Return the loaded DataFrame\n",
    "\n",
    "        except requests.exceptions.RequestException as e:\n",
    "            print(f\"Error downloading file from Google Drive: {e}\")\n",
    "            return None\n",
    "        except pd.errors.EmptyDataError:\n",
    "            print(\"Error: The downloaded file appears to be empty.\")\n",
    "            return None\n",
    "        except Exception as e:\n",
    "            print(f\"An error occurred while processing the downloaded data: {e}\")\n",
    "            return None\n",
    "\n",
    "    else:\n",
    "        print(\"Error: Could not extract file ID from the shareable link. Please ensure the link is correct.\")\n",
    "        return None"
   ]
  },
  {
   "cell_type": "code",
   "execution_count": null,
   "id": "c68cca1d-4d46-4ffc-90ec-0bd44453b12b",
   "metadata": {},
   "outputs": [],
   "source": [
    "def find_n_plus_duplicate_timestamps(df, column_name='login_time', n=3):\n",
    "    \"\"\"\n",
    "    Finds 'login timestamp' values that appear n or more times in the DataFrame.\n",
    "\n",
    "    Args:\n",
    "        df (pd.DataFrame): The DataFrame to check.\n",
    "        column_name (str): The name of the timestamp column. Defaults to 'login timestamp'.\n",
    "        n (int): The minimum number of times a timestamp must be duplicated.\n",
    "                 Defaults to 3.\n",
    "\n",
    "    Returns:\n",
    "        pd.DataFrame: A DataFrame containing all rows where the 'login timestamp'\n",
    "                      appears n or more times.\n",
    "    \"\"\"\n",
    "    if column_name not in df.columns:\n",
    "        print(f\"Error: Column '{column_name}' not found in the DataFrame.\")\n",
    "        return pd.DataFrame()\n",
    "\n",
    "    timestamp_counts = df[column_name].value_counts()\n",
    "    n_plus_duplicate_timestamps = timestamp_counts[timestamp_counts >= n].index.tolist()\n",
    "\n",
    "    if n_plus_duplicate_timestamps:\n",
    "        n_plus_duplicates_df = df[df[column_name].isin(n_plus_duplicate_timestamps)]\n",
    "        return n_plus_duplicates_df.sort_values(by=column_name)\n",
    "    else:\n",
    "        print(f\"No 'login timestamp' values appear {n} or more times.\")\n",
    "        return pd.DataFrame()"
   ]
  },
  {
   "cell_type": "markdown",
   "id": "ddb68520-328a-42da-a212-8e3945d3b7cc",
   "metadata": {},
   "source": [
    "### Part 1"
   ]
  },
  {
   "cell_type": "code",
   "execution_count": 12,
   "id": "1549da61-353f-4b78-9f01-8001ea0b4bbc",
   "metadata": {
    "execution": {
     "iopub.execute_input": "2025-03-31T03:25:21.342654Z",
     "iopub.status.busy": "2025-03-31T03:25:21.342459Z",
     "iopub.status.idle": "2025-03-31T03:25:24.698462Z",
     "shell.execute_reply": "2025-03-31T03:25:24.697953Z",
     "shell.execute_reply.started": "2025-03-31T03:25:21.342640Z"
    }
   },
   "outputs": [
    {
     "name": "stdout",
     "output_type": "stream",
     "text": [
      "Data loaded successfully from Google Drive:\n",
      "\n",
      "DataFrame shape: (93142, 1)\n"
     ]
    },
    {
     "data": {
      "text/html": [
       "<div>\n",
       "<style scoped>\n",
       "    .dataframe tbody tr th:only-of-type {\n",
       "        vertical-align: middle;\n",
       "    }\n",
       "\n",
       "    .dataframe tbody tr th {\n",
       "        vertical-align: top;\n",
       "    }\n",
       "\n",
       "    .dataframe thead th {\n",
       "        text-align: right;\n",
       "    }\n",
       "</style>\n",
       "<table border=\"1\" class=\"dataframe\">\n",
       "  <thead>\n",
       "    <tr style=\"text-align: right;\">\n",
       "      <th></th>\n",
       "      <th>login_time</th>\n",
       "    </tr>\n",
       "  </thead>\n",
       "  <tbody>\n",
       "    <tr>\n",
       "      <th>0</th>\n",
       "      <td>1970-01-01 20:13:18</td>\n",
       "    </tr>\n",
       "    <tr>\n",
       "      <th>1</th>\n",
       "      <td>1970-01-01 20:16:10</td>\n",
       "    </tr>\n",
       "    <tr>\n",
       "      <th>2</th>\n",
       "      <td>1970-01-01 20:16:37</td>\n",
       "    </tr>\n",
       "    <tr>\n",
       "      <th>3</th>\n",
       "      <td>1970-01-01 20:16:36</td>\n",
       "    </tr>\n",
       "    <tr>\n",
       "      <th>4</th>\n",
       "      <td>1970-01-01 20:26:21</td>\n",
       "    </tr>\n",
       "  </tbody>\n",
       "</table>\n",
       "</div>"
      ],
      "text/plain": [
       "           login_time\n",
       "0 1970-01-01 20:13:18\n",
       "1 1970-01-01 20:16:10\n",
       "2 1970-01-01 20:16:37\n",
       "3 1970-01-01 20:16:36\n",
       "4 1970-01-01 20:26:21"
      ]
     },
     "execution_count": 12,
     "metadata": {},
     "output_type": "execute_result"
    }
   ],
   "source": [
    "# Example usage:\n",
    "shareable_link = \"https://drive.google.com/file/d/1ZA1-IVF15jD_IIIxCQ6a8dEG94Qf9raz/view?usp=drive_link\"\n",
    "utl_data = load_and_group_dataframe(shareable_link)\n",
    "\n",
    "# You can now work with the loaded DataFrame 'df' if it was loaded successfully\n",
    "if utl_data is not None:\n",
    "    # Further analysis or processing\n",
    "    print(\"\\nDataFrame shape:\", utl_data.shape)\n",
    "\n",
    "utl_data.head()"
   ]
  },
  {
   "cell_type": "code",
   "execution_count": 6,
   "id": "46d54ee6-6f4b-4b1a-b993-4e4aec98d12b",
   "metadata": {
    "execution": {
     "iopub.execute_input": "2025-03-31T03:20:37.726917Z",
     "iopub.status.busy": "2025-03-31T03:20:37.726492Z",
     "iopub.status.idle": "2025-03-31T03:20:37.732424Z",
     "shell.execute_reply": "2025-03-31T03:20:37.731609Z",
     "shell.execute_reply.started": "2025-03-31T03:20:37.726897Z"
    }
   },
   "outputs": [
    {
     "data": {
      "text/plain": [
       "login_time    0\n",
       "dtype: int64"
      ]
     },
     "execution_count": 6,
     "metadata": {},
     "output_type": "execute_result"
    }
   ],
   "source": [
    "utl_data.isnull().sum()"
   ]
  },
  {
   "cell_type": "code",
   "execution_count": 17,
   "id": "786aec0a-61f8-4a29-b319-c74640a84d73",
   "metadata": {
    "execution": {
     "iopub.execute_input": "2025-03-31T03:31:51.525239Z",
     "iopub.status.busy": "2025-03-31T03:31:51.524784Z",
     "iopub.status.idle": "2025-03-31T03:31:51.536178Z",
     "shell.execute_reply": "2025-03-31T03:31:51.535620Z",
     "shell.execute_reply.started": "2025-03-31T03:31:51.525224Z"
    }
   },
   "outputs": [
    {
     "name": "stdout",
     "output_type": "stream",
     "text": [
      "\n",
      "Number of duplicate rows: 877\n",
      "\n",
      "DataFrame with duplicate rows removed:\n",
      "Shape of DataFrame with duplicates removed: (92265, 1)\n"
     ]
    },
    {
     "data": {
      "text/html": [
       "<div>\n",
       "<style scoped>\n",
       "    .dataframe tbody tr th:only-of-type {\n",
       "        vertical-align: middle;\n",
       "    }\n",
       "\n",
       "    .dataframe tbody tr th {\n",
       "        vertical-align: top;\n",
       "    }\n",
       "\n",
       "    .dataframe thead th {\n",
       "        text-align: right;\n",
       "    }\n",
       "</style>\n",
       "<table border=\"1\" class=\"dataframe\">\n",
       "  <thead>\n",
       "    <tr style=\"text-align: right;\">\n",
       "      <th></th>\n",
       "      <th>login_time</th>\n",
       "    </tr>\n",
       "  </thead>\n",
       "  <tbody>\n",
       "    <tr>\n",
       "      <th>0</th>\n",
       "      <td>1970-01-01 20:13:18</td>\n",
       "    </tr>\n",
       "    <tr>\n",
       "      <th>1</th>\n",
       "      <td>1970-01-01 20:16:10</td>\n",
       "    </tr>\n",
       "    <tr>\n",
       "      <th>2</th>\n",
       "      <td>1970-01-01 20:16:37</td>\n",
       "    </tr>\n",
       "    <tr>\n",
       "      <th>3</th>\n",
       "      <td>1970-01-01 20:16:36</td>\n",
       "    </tr>\n",
       "    <tr>\n",
       "      <th>4</th>\n",
       "      <td>1970-01-01 20:26:21</td>\n",
       "    </tr>\n",
       "  </tbody>\n",
       "</table>\n",
       "</div>"
      ],
      "text/plain": [
       "           login_time\n",
       "0 1970-01-01 20:13:18\n",
       "1 1970-01-01 20:16:10\n",
       "2 1970-01-01 20:16:37\n",
       "3 1970-01-01 20:16:36\n",
       "4 1970-01-01 20:26:21"
      ]
     },
     "execution_count": 17,
     "metadata": {},
     "output_type": "execute_result"
    }
   ],
   "source": [
    "# Checking for Duplicate Rows (Based on All Columns):\n",
    "\n",
    "# Check for duplicate rows\n",
    "duplicate_rows = utl_data[utl_data.duplicated()]\n",
    "\n",
    "# Print the duplicate rows\n",
    "#print(\"Duplicate Rows (based on all columns):\")\n",
    "#print(duplicate_rows)\n",
    "\n",
    "# Get the number of duplicate rows\n",
    "num_duplicate_rows = duplicate_rows.shape[0]\n",
    "print(f\"\\nNumber of duplicate rows: {num_duplicate_rows}\")\n",
    "\n",
    "# To see all unique rows (removing duplicates):\n",
    "utl_data_unique_rows = utl_data.drop_duplicates()\n",
    "print(\"\\nDataFrame with duplicate rows removed:\")\n",
    "print(f\"Shape of DataFrame with duplicates removed: {utl_data_unique_rows.shape}\")\n",
    "utl_data_unique_rows.head()\n"
   ]
  },
  {
   "cell_type": "code",
   "execution_count": 14,
   "id": "7e054070-19b3-4a30-be6a-38037f6bf60b",
   "metadata": {
    "execution": {
     "iopub.execute_input": "2025-03-31T03:27:11.637792Z",
     "iopub.status.busy": "2025-03-31T03:27:11.637380Z",
     "iopub.status.idle": "2025-03-31T03:27:11.655232Z",
     "shell.execute_reply": "2025-03-31T03:27:11.654395Z",
     "shell.execute_reply.started": "2025-03-31T03:27:11.637775Z"
    }
   },
   "outputs": [
    {
     "name": "stdout",
     "output_type": "stream",
     "text": [
      "\n",
      "Login timestamps appearing 3 or more times:\n",
      "               login_time\n",
      "3253  1970-01-06 21:45:52\n",
      "3256  1970-01-06 21:45:52\n",
      "3259  1970-01-06 21:45:52\n",
      "4744  1970-01-09 01:31:25\n",
      "4750  1970-01-09 01:31:25\n",
      "4757  1970-01-09 01:31:25\n",
      "29774 1970-02-12 11:16:53\n",
      "29790 1970-02-12 11:16:53\n",
      "29797 1970-02-12 11:16:53\n",
      "41874 1970-02-24 23:09:57\n",
      "41877 1970-02-24 23:09:57\n",
      "41883 1970-02-24 23:09:57\n",
      "59819 1970-03-14 17:45:52\n",
      "59806 1970-03-14 17:45:52\n",
      "59791 1970-03-14 17:45:52\n",
      "62890 1970-03-17 01:01:39\n",
      "62902 1970-03-17 01:01:39\n",
      "62908 1970-03-17 01:01:39\n",
      "77076 1970-03-29 03:24:57\n",
      "77094 1970-03-29 03:24:57\n",
      "77096 1970-03-29 03:24:57\n",
      "83421 1970-04-04 01:17:40\n",
      "83458 1970-04-04 01:17:40\n",
      "83478 1970-04-04 01:17:40\n",
      "91843 1970-04-12 04:03:15\n",
      "91862 1970-04-12 04:03:15\n",
      "91869 1970-04-12 04:03:15\n"
     ]
    }
   ],
   "source": [
    "# Find login timestamps that appear 3 or more times:\n",
    "n_plus_duplicate_timestamps_df = find_n_plus_duplicate_timestamps(utl_data, n=3)\n",
    "print(\"\\nLogin timestamps appearing 3 or more times:\")\n",
    "print(n_plus_duplicate_timestamps_df)"
   ]
  },
  {
   "cell_type": "code",
   "execution_count": null,
   "id": "f261e06e-c068-431a-b883-c3af4baa6fe7",
   "metadata": {},
   "outputs": [],
   "source": [
    "Is it possible for users to log in at the exact same time down to the milliseconds? If yes, then we need to keep the data intact and not drop duplicates. "
   ]
  },
  {
   "cell_type": "markdown",
   "id": "543aa0c6-851d-4587-98d5-8d7c8051d418",
   "metadata": {},
   "source": [
    "### Part 2"
   ]
  },
  {
   "cell_type": "code",
   "execution_count": null,
   "id": "b4d23039-8d27-459e-b3d5-3beec5c938c2",
   "metadata": {},
   "outputs": [],
   "source": [
    "# Example usage:\n",
    "shareable_link = \"https://drive.google.com/file/d/1buEu5LHKSuK0Pgyu4cpYClOgDnlzdnJY/view?usp=drive_link\"\n",
    "ut_data = load_and_group_dataframe(shareable_link)\n",
    "\n",
    "# You can now work with the loaded DataFrame 'df' if it was loaded successfully\n",
    "if ut_data is not None:\n",
    "    # Further analysis or processing\n",
    "    print(\"\\nDataFrame shape:\", ut_data.shape)"
   ]
  },
  {
   "cell_type": "code",
   "execution_count": null,
   "id": "df3779cd-f6ca-42f1-8949-2fa076c99c22",
   "metadata": {},
   "outputs": [],
   "source": [
    "ut_data.shape"
   ]
  },
  {
   "cell_type": "code",
   "execution_count": null,
   "id": "9e74bf41-28fe-444c-8afd-222d4fb0c50f",
   "metadata": {},
   "outputs": [],
   "source": [
    "ut_data.describe()"
   ]
  },
  {
   "cell_type": "code",
   "execution_count": null,
   "id": "c747d7df-56a6-47fd-a0b2-5379fec26b03",
   "metadata": {},
   "outputs": [],
   "source": [
    "# Separate numerical and non-numerical columns\n",
    "numerical_cols = ut_data.select_dtypes(include=['number']).columns.tolist()\n",
    "non_numerical_cols = ut_data.select_dtypes(exclude=['number']).columns.tolist()\n",
    "\n",
    "# Create the desired column order\n",
    "ordered_cols = numerical_cols + non_numerical_cols\n",
    "\n",
    "# Display the DataFrame with the ordered columns (showing the head)\n",
    "ut_data[ordered_cols].head()\n",
    "\n",
    "# If you want to see all columns without truncation in the output:\n",
    "# pd.set_option('display.max_columns', None)\n",
    "# print(ut_data[ordered_cols])"
   ]
  },
  {
   "cell_type": "code",
   "execution_count": null,
   "id": "a8480f7b-944c-482c-a7c2-940d7f3dae53",
   "metadata": {},
   "outputs": [],
   "source": []
  }
 ],
 "metadata": {
  "kernelspec": {
   "display_name": "Python 3 (ipykernel)",
   "language": "python",
   "name": "python3"
  },
  "language_info": {
   "codemirror_mode": {
    "name": "ipython",
    "version": 3
   },
   "file_extension": ".py",
   "mimetype": "text/x-python",
   "name": "python",
   "nbconvert_exporter": "python",
   "pygments_lexer": "ipython3",
   "version": "3.13.1"
  }
 },
 "nbformat": 4,
 "nbformat_minor": 5
}
